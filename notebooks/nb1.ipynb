{
 "cells": [
  {
   "cell_type": "markdown",
   "metadata": {},
   "source": []
  },
  {
   "cell_type": "markdown",
   "metadata": {},
   "source": []
  },
  {
   "cell_type": "code",
   "execution_count": 3,
   "metadata": {},
   "outputs": [
    {
     "name": "stdout",
     "output_type": "stream",
     "text": [
      "True\n",
      "6a6e4a043fc44637a39c4b7e0237f7ec\n",
      "2024-02-15-preview\n",
      "https://lr-oai-gpt4v-swc.openai.azure.com/\n",
      "gpt-4-vision-deployment\n"
     ]
    }
   ],
   "source": [
    "import os\n",
    "from dotenv import load_dotenv\n",
    "\n",
    "print(load_dotenv())\n",
    "\n",
    "print(os.getenv(\"AZURE_OPENAI_APIKEY\"))\n",
    "print(os.getenv(\"AZURE_OPENAI_GPT4_ASSISTANT_API_VERSION\"))\n",
    "print(os.getenv(\"AZURE_OPENAI_API_ENDPOINT\"))\n",
    "print(os.getenv(\"AZURE_OPENAI_GPT4_DEPLOYMENT_NAME\"))\n"
   ]
  },
  {
   "cell_type": "code",
   "execution_count": 4,
   "metadata": {},
   "outputs": [
    {
     "name": "stdout",
     "output_type": "stream",
     "text": [
      "{'base_url': 'https://lr-oai-gpt4v-swc.openai.azure.com/', 'model_deployment': 'gpt-4-vision-deployment', 'model_name': 'gpt-4', 'embedding_deployment': 'text-embedding-ada-002', 'embedding_name': 'text-embedding-ada-002'}\n"
     ]
    }
   ],
   "source": [
    "azure_configs = {\n",
    "    \"base_url\": os.getenv('AZURE_OPENAI_API_ENDPOINT'),\n",
    "    \"model_deployment\": os.getenv('AZURE_OPENAI_GPT4V_DEPLOYMENT_NAME'),\n",
    "    \"model_name\": os.getenv('AZURE_OPENAI_GPT4V_MODEL_NAME'),\n",
    "    \"embedding_deployment\": os.getenv('AZURE_OPENAI_EMBEDDINGS_MODEL_DEPLOYMENT_NAME'),\n",
    "    \"embedding_name\": os.getenv('AZURE_OPENAI_EMBEDDINGS_MODEL_NAME'),  # most likely\n",
    "}\n",
    "\n",
    "print(azure_configs)"
   ]
  },
  {
   "cell_type": "code",
   "execution_count": 5,
   "metadata": {},
   "outputs": [
    {
     "name": "stdout",
     "output_type": "stream",
     "text": [
      "c:\\Users\\lrepichini\\OneDrive - Microsoft\\Workspace\\RAGEvaluation-RAGAS\\RAGEvaluation-RAGAS\\notebooks\n"
     ]
    }
   ],
   "source": [
    "print(os.getcwd())\n",
    "\n",
    "DOCUMENT_DIRECTORY = os.path.dirname(os.path.abspath(\"c:\\\\Users\\\\lrepichini\\\\OneDrive - Microsoft\\\\Workspace\\\\RAGEvaluation-RAGAS\\\\RAGEvaluation-RAGAS\\\\docs\"))"
   ]
  },
  {
   "cell_type": "code",
   "execution_count": 6,
   "metadata": {},
   "outputs": [
    {
     "name": "stdout",
     "output_type": "stream",
     "text": [
      "['c:\\\\Users\\\\lrepichini\\\\OneDrive - Microsoft\\\\Workspace\\\\RAGEvaluation-RAGAS\\\\RAGEvaluation-RAGAS\\\\notebooks', 'C:\\\\Python312\\\\python312.zip', 'C:\\\\Python312\\\\DLLs', 'C:\\\\Python312\\\\Lib', 'C:\\\\Python312', 'c:\\\\Users\\\\lrepichini\\\\OneDrive - Microsoft\\\\Workspace\\\\RAGEvaluation-RAGAS\\\\.venv', '', 'c:\\\\Users\\\\lrepichini\\\\OneDrive - Microsoft\\\\Workspace\\\\RAGEvaluation-RAGAS\\\\.venv\\\\Lib\\\\site-packages', 'c:\\\\Users\\\\lrepichini\\\\OneDrive - Microsoft\\\\Workspace\\\\RAGEvaluation-RAGAS\\\\.venv\\\\Lib\\\\site-packages\\\\win32', 'c:\\\\Users\\\\lrepichini\\\\OneDrive - Microsoft\\\\Workspace\\\\RAGEvaluation-RAGAS\\\\.venv\\\\Lib\\\\site-packages\\\\win32\\\\lib', 'c:\\\\Users\\\\lrepichini\\\\OneDrive - Microsoft\\\\Workspace\\\\RAGEvaluation-RAGAS\\\\.venv\\\\Lib\\\\site-packages\\\\Pythonwin']\n"
     ]
    }
   ],
   "source": [
    "import sys\n",
    "print(sys.path)"
   ]
  },
  {
   "cell_type": "code",
   "execution_count": 7,
   "metadata": {},
   "outputs": [
    {
     "name": "stderr",
     "output_type": "stream",
     "text": [
      "Error loading file c:\\Users\\lrepichini\\OneDrive - Microsoft\\Workspace\\RAGEvaluation-RAGAS\\RAGEvaluation-RAGAS\\docs\\DN.MOI.04.19 - De Nora Group Reporting Package Manual (Issue 4) - Dec 2018.pdf\n"
     ]
    },
    {
     "ename": "ValueError",
     "evalue": "unstructured package not found, please install it with `pip install unstructured`",
     "output_type": "error",
     "traceback": [
      "\u001b[1;31m---------------------------------------------------------------------------\u001b[0m",
      "\u001b[1;31mModuleNotFoundError\u001b[0m                       Traceback (most recent call last)",
      "File \u001b[1;32mc:\\Users\\lrepichini\\OneDrive - Microsoft\\Workspace\\RAGEvaluation-RAGAS\\.venv\\Lib\\site-packages\\langchain_community\\document_loaders\\unstructured.py:48\u001b[0m, in \u001b[0;36mUnstructuredBaseLoader.__init__\u001b[1;34m(self, mode, post_processors, **unstructured_kwargs)\u001b[0m\n\u001b[0;32m     47\u001b[0m \u001b[38;5;28;01mtry\u001b[39;00m:\n\u001b[1;32m---> 48\u001b[0m     \u001b[38;5;28;01mimport\u001b[39;00m \u001b[38;5;21;01munstructured\u001b[39;00m  \u001b[38;5;66;03m# noqa:F401\u001b[39;00m\n\u001b[0;32m     49\u001b[0m \u001b[38;5;28;01mexcept\u001b[39;00m \u001b[38;5;167;01mImportError\u001b[39;00m:\n",
      "\u001b[1;31mModuleNotFoundError\u001b[0m: No module named 'unstructured'",
      "\nDuring handling of the above exception, another exception occurred:\n",
      "\u001b[1;31mValueError\u001b[0m                                Traceback (most recent call last)",
      "Cell \u001b[1;32mIn[7], line 3\u001b[0m\n\u001b[0;32m      1\u001b[0m \u001b[38;5;28;01mfrom\u001b[39;00m \u001b[38;5;21;01mlangchain\u001b[39;00m\u001b[38;5;21;01m.\u001b[39;00m\u001b[38;5;21;01mdocument_loaders\u001b[39;00m \u001b[38;5;28;01mimport\u001b[39;00m DirectoryLoader\n\u001b[0;32m      2\u001b[0m loader \u001b[38;5;241m=\u001b[39m DirectoryLoader(DOCUMENT_DIRECTORY)\n\u001b[1;32m----> 3\u001b[0m documents \u001b[38;5;241m=\u001b[39m \u001b[43mloader\u001b[49m\u001b[38;5;241;43m.\u001b[39;49m\u001b[43mload\u001b[49m\u001b[43m(\u001b[49m\u001b[43m)\u001b[49m\n",
      "File \u001b[1;32mc:\\Users\\lrepichini\\OneDrive - Microsoft\\Workspace\\RAGEvaluation-RAGAS\\.venv\\Lib\\site-packages\\langchain_community\\document_loaders\\directory.py:158\u001b[0m, in \u001b[0;36mDirectoryLoader.load\u001b[1;34m(self)\u001b[0m\n\u001b[0;32m    156\u001b[0m \u001b[38;5;28;01melse\u001b[39;00m:\n\u001b[0;32m    157\u001b[0m     \u001b[38;5;28;01mfor\u001b[39;00m i \u001b[38;5;129;01min\u001b[39;00m items:\n\u001b[1;32m--> 158\u001b[0m         \u001b[38;5;28;43mself\u001b[39;49m\u001b[38;5;241;43m.\u001b[39;49m\u001b[43mload_file\u001b[49m\u001b[43m(\u001b[49m\u001b[43mi\u001b[49m\u001b[43m,\u001b[49m\u001b[43m \u001b[49m\u001b[43mp\u001b[49m\u001b[43m,\u001b[49m\u001b[43m \u001b[49m\u001b[43mdocs\u001b[49m\u001b[43m,\u001b[49m\u001b[43m \u001b[49m\u001b[43mpbar\u001b[49m\u001b[43m)\u001b[49m\n\u001b[0;32m    160\u001b[0m \u001b[38;5;28;01mif\u001b[39;00m pbar:\n\u001b[0;32m    161\u001b[0m     pbar\u001b[38;5;241m.\u001b[39mclose()\n",
      "File \u001b[1;32mc:\\Users\\lrepichini\\OneDrive - Microsoft\\Workspace\\RAGEvaluation-RAGAS\\.venv\\Lib\\site-packages\\langchain_community\\document_loaders\\directory.py:107\u001b[0m, in \u001b[0;36mDirectoryLoader.load_file\u001b[1;34m(self, item, path, docs, pbar)\u001b[0m\n\u001b[0;32m    105\u001b[0m     \u001b[38;5;28;01melse\u001b[39;00m:\n\u001b[0;32m    106\u001b[0m         logger\u001b[38;5;241m.\u001b[39merror(\u001b[38;5;124mf\u001b[39m\u001b[38;5;124m\"\u001b[39m\u001b[38;5;124mError loading file \u001b[39m\u001b[38;5;132;01m{\u001b[39;00m\u001b[38;5;28mstr\u001b[39m(item)\u001b[38;5;132;01m}\u001b[39;00m\u001b[38;5;124m\"\u001b[39m)\n\u001b[1;32m--> 107\u001b[0m         \u001b[38;5;28;01mraise\u001b[39;00m e\n\u001b[0;32m    108\u001b[0m \u001b[38;5;28;01mfinally\u001b[39;00m:\n\u001b[0;32m    109\u001b[0m     \u001b[38;5;28;01mif\u001b[39;00m pbar:\n",
      "File \u001b[1;32mc:\\Users\\lrepichini\\OneDrive - Microsoft\\Workspace\\RAGEvaluation-RAGAS\\.venv\\Lib\\site-packages\\langchain_community\\document_loaders\\directory.py:100\u001b[0m, in \u001b[0;36mDirectoryLoader.load_file\u001b[1;34m(self, item, path, docs, pbar)\u001b[0m\n\u001b[0;32m     98\u001b[0m \u001b[38;5;28;01mtry\u001b[39;00m:\n\u001b[0;32m     99\u001b[0m     logger\u001b[38;5;241m.\u001b[39mdebug(\u001b[38;5;124mf\u001b[39m\u001b[38;5;124m\"\u001b[39m\u001b[38;5;124mProcessing file: \u001b[39m\u001b[38;5;132;01m{\u001b[39;00m\u001b[38;5;28mstr\u001b[39m(item)\u001b[38;5;132;01m}\u001b[39;00m\u001b[38;5;124m\"\u001b[39m)\n\u001b[1;32m--> 100\u001b[0m     sub_docs \u001b[38;5;241m=\u001b[39m \u001b[38;5;28;43mself\u001b[39;49m\u001b[38;5;241;43m.\u001b[39;49m\u001b[43mloader_cls\u001b[49m\u001b[43m(\u001b[49m\u001b[38;5;28;43mstr\u001b[39;49m\u001b[43m(\u001b[49m\u001b[43mitem\u001b[49m\u001b[43m)\u001b[49m\u001b[43m,\u001b[49m\u001b[43m \u001b[49m\u001b[38;5;241;43m*\u001b[39;49m\u001b[38;5;241;43m*\u001b[39;49m\u001b[38;5;28;43mself\u001b[39;49m\u001b[38;5;241;43m.\u001b[39;49m\u001b[43mloader_kwargs\u001b[49m\u001b[43m)\u001b[49m\u001b[38;5;241m.\u001b[39mload()\n\u001b[0;32m    101\u001b[0m     docs\u001b[38;5;241m.\u001b[39mextend(sub_docs)\n\u001b[0;32m    102\u001b[0m \u001b[38;5;28;01mexcept\u001b[39;00m \u001b[38;5;167;01mException\u001b[39;00m \u001b[38;5;28;01mas\u001b[39;00m e:\n",
      "File \u001b[1;32mc:\\Users\\lrepichini\\OneDrive - Microsoft\\Workspace\\RAGEvaluation-RAGAS\\.venv\\Lib\\site-packages\\langchain_community\\document_loaders\\unstructured.py:168\u001b[0m, in \u001b[0;36mUnstructuredFileLoader.__init__\u001b[1;34m(self, file_path, mode, **unstructured_kwargs)\u001b[0m\n\u001b[0;32m    166\u001b[0m \u001b[38;5;250m\u001b[39m\u001b[38;5;124;03m\"\"\"Initialize with file path.\"\"\"\u001b[39;00m\n\u001b[0;32m    167\u001b[0m \u001b[38;5;28mself\u001b[39m\u001b[38;5;241m.\u001b[39mfile_path \u001b[38;5;241m=\u001b[39m file_path\n\u001b[1;32m--> 168\u001b[0m \u001b[38;5;28;43msuper\u001b[39;49m\u001b[43m(\u001b[49m\u001b[43m)\u001b[49m\u001b[38;5;241;43m.\u001b[39;49m\u001b[38;5;21;43m__init__\u001b[39;49m\u001b[43m(\u001b[49m\u001b[43mmode\u001b[49m\u001b[38;5;241;43m=\u001b[39;49m\u001b[43mmode\u001b[49m\u001b[43m,\u001b[49m\u001b[43m \u001b[49m\u001b[38;5;241;43m*\u001b[39;49m\u001b[38;5;241;43m*\u001b[39;49m\u001b[43munstructured_kwargs\u001b[49m\u001b[43m)\u001b[49m\n",
      "File \u001b[1;32mc:\\Users\\lrepichini\\OneDrive - Microsoft\\Workspace\\RAGEvaluation-RAGAS\\.venv\\Lib\\site-packages\\langchain_community\\document_loaders\\unstructured.py:50\u001b[0m, in \u001b[0;36mUnstructuredBaseLoader.__init__\u001b[1;34m(self, mode, post_processors, **unstructured_kwargs)\u001b[0m\n\u001b[0;32m     48\u001b[0m     \u001b[38;5;28;01mimport\u001b[39;00m \u001b[38;5;21;01munstructured\u001b[39;00m  \u001b[38;5;66;03m# noqa:F401\u001b[39;00m\n\u001b[0;32m     49\u001b[0m \u001b[38;5;28;01mexcept\u001b[39;00m \u001b[38;5;167;01mImportError\u001b[39;00m:\n\u001b[1;32m---> 50\u001b[0m     \u001b[38;5;28;01mraise\u001b[39;00m \u001b[38;5;167;01mValueError\u001b[39;00m(\n\u001b[0;32m     51\u001b[0m         \u001b[38;5;124m\"\u001b[39m\u001b[38;5;124munstructured package not found, please install it with \u001b[39m\u001b[38;5;124m\"\u001b[39m\n\u001b[0;32m     52\u001b[0m         \u001b[38;5;124m\"\u001b[39m\u001b[38;5;124m`pip install unstructured`\u001b[39m\u001b[38;5;124m\"\u001b[39m\n\u001b[0;32m     53\u001b[0m     )\n\u001b[0;32m     54\u001b[0m _valid_modes \u001b[38;5;241m=\u001b[39m {\u001b[38;5;124m\"\u001b[39m\u001b[38;5;124msingle\u001b[39m\u001b[38;5;124m\"\u001b[39m, \u001b[38;5;124m\"\u001b[39m\u001b[38;5;124melements\u001b[39m\u001b[38;5;124m\"\u001b[39m, \u001b[38;5;124m\"\u001b[39m\u001b[38;5;124mpaged\u001b[39m\u001b[38;5;124m\"\u001b[39m}\n\u001b[0;32m     55\u001b[0m \u001b[38;5;28;01mif\u001b[39;00m mode \u001b[38;5;129;01mnot\u001b[39;00m \u001b[38;5;129;01min\u001b[39;00m _valid_modes:\n",
      "\u001b[1;31mValueError\u001b[0m: unstructured package not found, please install it with `pip install unstructured`"
     ]
    }
   ],
   "source": [
    "from langchain.document_loaders import DirectoryLoader\n",
    "loader = DirectoryLoader(DOCUMENT_DIRECTORY)\n",
    "documents = loader.load()"
   ]
  }
 ],
 "metadata": {
  "kernelspec": {
   "display_name": "rageval-ragas-venv",
   "language": "python",
   "name": "python3"
  },
  "language_info": {
   "codemirror_mode": {
    "name": "ipython",
    "version": 3
   },
   "file_extension": ".py",
   "mimetype": "text/x-python",
   "name": "python",
   "nbconvert_exporter": "python",
   "pygments_lexer": "ipython3",
   "version": "3.12.1"
  }
 },
 "nbformat": 4,
 "nbformat_minor": 2
}
